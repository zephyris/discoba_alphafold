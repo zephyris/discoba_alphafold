{
  "nbformat": 4,
  "nbformat_minor": 0,
  "metadata": {
    "colab": {
      "name": "DiscobaHmmer.ipynb",
      "private_outputs": true,
      "provenance": [],
      "collapsed_sections": [],
      "machine_shape": "hm",
      "include_colab_link": true
    },
    "kernelspec": {
      "display_name": "Python 3",
      "name": "python3"
    },
    "language_info": {
      "name": "python"
    }
  },
  "cells": [
    {
      "cell_type": "markdown",
      "metadata": {
        "id": "view-in-github",
        "colab_type": "text"
      },
      "source": [
        "<a href=\"https://colab.research.google.com/github/zephyris/discoba_alphafold/blob/main/DiscobaHMMER.ipynb\" target=\"_parent\"><img src=\"https://colab.research.google.com/assets/colab-badge.svg\" alt=\"Open In Colab\"/></a>"
      ]
    },
    {
      "cell_type": "code",
      "metadata": {
        "id": "kOblAo-xetgx",
        "cellView": "form"
      },
      "source": [
        "#@markdown Enter the query name and sequence then \"Runtime>Run All\"\n",
        "from google.colab import files\n",
        "import re\n",
        "import hashlib\n",
        "\n",
        "query_name = 'Tb927.8.4970_PFR2' #@param {type:\"string\"}\n",
        "query_sequence = 'MLGTVDAIDYDGDRLHKVVLRFPAVRSGESEIVKEVWPCERIGQGSFGTVYRAVSSDYPRLALKISTGKSTRLRQELDVLSRVCTKGRLLLPRFEFGALNKTADLIVIGMELCVPSTLHDLLLSTRITSEAEMLFMAHQAVQAVSYVHAEGCIHRDIKLQNFVFDLDGNLKLIDFGLACNSLKPPAGDVVAGTVSFMSPEMAHNALHKDRRVSVGVAADVWSLGIVLFSIFTQRNPYPAPETPAPAAGSTPGGAGAAGVTGRGDITHGAEGEKGNDLSQQHRMNERLLRRVAAGDWQWPVGVTVSQDLKQLVNSILVVNPEERPSVSTILENKLWNLRRRYPPAAVAAFLGVQDDFLLSHDEAHLMRAVEERSAGVAASLRNSRLHSPASASNEDNGETDAQHSSSGSARNGGLNTSGATTSPARSSLKVVQRCGEGGIDGAVTVQVYDVRASTRKRSKPIREISVVMAEETAKTRRSKSARRATGAVSAPSSRVVSRAASTEYSRRIAPPAGARLQSSAAHTCANSGDDEGEAEAEAVNRGTSTSQRHSRGMSPVRLQDALETAGSVAAGQRDSVGHPKALVEPSCATPPLLTSGKQQPLSEHMRPDIQRSGSVELLEDAEAPTEASAMPTSHKRAASSGKKRRDASLRQPSSLILKGSTRDLSADAPRSTTTAASTQASTSLLASRTTLPLSAVNPSPSSSRQASLRRQASASAAAVSSAQGCAGHRGSSPVMKRAQRVALELGLDVIWHDEADHRRALSAMLLIEHAWLLASFRLTIEEDQERYSITWLAEEQEKSAAHPHRFKEVMQVMSKKYQYGFVCDMCDYEFLPTGPGEKDLHFFHCPCGRDLCPDCYTAYQRQCTCSCCRAVHSNSCVLREHLLLTGGTQYYSGSRKTNAAARADAVRGSFQAAASLNEEAESGDEASAPPEPPRRRGRPPKQDKNRSAVKQKGSRAAKDSSRRRRGAQDTLDVSVDDAHEVEQINLPRISIAAMQQQEERSSNGSHRGGGTAAVGVAPRPQRPEDVEVKQRPVESVPEGPWRPFARFKKDRRDEVAQQPTPEERDALLNGEWIRHFYLFPQAEPERVAASGTWAEGEEEPYAFVYHAQPGRTGAIFLTSDFPMHSAVFSMLERQFFVVNQVDTVEGVDSTRATSLLKAKGHPELRIAFHALQDIVAYDTNMMKQQRTPGTVSVYQAPRSAYSCNGEPFLYVRWFRFNENRTLSAFLLSNGAVQVFVNNEYELRWFDESRKFLIRYNGVCELVDDGTFALAPGINHLLYDSFDA' #@param {type:\"string\"}\n",
        "\n",
        "def add_hash(x,y):\n",
        "  return x+\"_\"+hashlib.sha1(y.encode()).hexdigest()[:5]\n",
        "\n",
        "query_name = \"\".join(query_name.split())\n",
        "query_name = re.sub(r'\\W+', '', query_name)\n",
        "query_name = add_hash(query_name, query_sequence)\n",
        "\n",
        "with open(f\"{query_name}.fasta\", \"w\") as text_file:\n",
        "    text_file.write(\">%s\\n%s\" % (query_name, query_sequence))\n",
        "\n",
        "#@markdown Searches take several minutes. The first run will set up the HMMER software and download a large sequence database so will take a little longer.\n",
        "\n",
        "#@markdown All sequence and sequencing data used in this database is publicly available, but the raw data deserves proper citation and building this database is a significant time investment. Please watch this space for full details and how to credit this resource."
      ],
      "execution_count": null,
      "outputs": []
    },
    {
      "cell_type": "code",
      "metadata": {
        "id": "bOBqlac_wYEh"
      },
      "source": [
        "#@title Install Hmmer, fetch Discoba database\n",
        "\n",
        "#@markdown Downloads a database from wheelerlab.net built from various publicly available non-Uniprot sources by Richard Wheeler.\n",
        "\n",
        "#@markdown The majority of these sequences are not in the UniRef100 database, which is commonly used by online database search/alignment tools. Many are derived from raw sequencing data and are not (to my knowledge) found in any searchable databases.\n",
        "\n",
        "#@markdown The database is currently being periodically updated. You can delete the \"DISCOBA_READY\" file using the \"Files\" interface on the left and re-run this section to update the database.\n",
        "\n",
        "%%bash -s\n",
        "#Install Hmmer, for search and alignment\n",
        "if [ ! -f HMMER_READY ]; then\n",
        "  apt-get install hmmer > /dev/null 2>&1\n",
        "  touch HMMER_READY\n",
        "fi\n",
        "\n",
        "#Download the custom Discoba database\n",
        "if [ ! -f DISCOBA_READY ]; then\n",
        "  if [ -d discoba ]; then\n",
        "    rm -r discoba\n",
        "  fi\n",
        "  mkdir discoba\n",
        "  cd discoba\n",
        "    curl http://wheelerlab.net/discobaStats.txt\n",
        "    curl http://wheelerlab.net/discoba.fasta.gz -s -L -o discoba.fasta.gz\n",
        "    gzip -d discoba.fasta.gz\n",
        "  cd ..\n",
        "  touch DISCOBA_READY\n",
        "fi\n",
        "\n",
        "#Install hh-suite\n",
        "if [ ! -f HHSUITE_READY ]; then\n",
        "  if [ -d hh-suite ]; then\n",
        "    rm -r hh-suite\n",
        "  fi\n",
        "  git clone https://github.com/soedinglab/hh-suite\n",
        "  touch HHSUITE_READY\n",
        "fi"
      ],
      "execution_count": null,
      "outputs": []
    },
    {
      "cell_type": "code",
      "metadata": {
        "id": "139gnocjv2HZ",
        "cellView": "form"
      },
      "source": [
        "#@title Run Hmmer to get Discoba MSA\n",
        "\n",
        "#@markdown It is normal for this to take several minutes.\n",
        "%%bash -s $query_name\n",
        "\n",
        "if [ ! -f $1.hmm.a3m ]; then\n",
        "  echo \"$1.fasta\"\n",
        "  echo \"world\"\n",
        "  jackhmmer -A $1.hmm.sto -o $1.hmm.out $1.fasta discoba/discoba.fasta\n",
        "  echo \"hello\"\n",
        "  perl hh-suite/scripts/reformat.pl sto a3m $1.hmm.sto $1.hmm.a3m\n",
        "fi"
      ],
      "execution_count": null,
      "outputs": []
    },
    {
      "cell_type": "code",
      "metadata": {
        "id": "zo_iCcN6plp1",
        "cellView": "form"
      },
      "source": [
        "#@title Download the a3m file\n",
        "#@markdown This a3m file can be used as a standalone alignment for your favourite AlphaFold2 implementation.\n",
        "#@markdown It uses HMMER for alignment, as used in [the official AlphaFold colab notebook](https://colab.research.google.com/github/deepmind/alphafold/blob/main/notebooks/AlphaFold.ipynb) - although that does not have an easy interface to provide a custom MSA.\n",
        "\n",
        "#@markdown In my experience it can, but does not always, give significantly better results than the [AlphaFold](https://alphafold.ebi.ac.uk/) database for _L. infantum_ and _T. cruzi_ genes.\n",
        "\n",
        "#@markdown The content of this a3m can be appended to a a3m from searching a different database, so long as the same input sequence was used.\n",
        "files.download(f\"{query_name}.a3m\")"
      ],
      "execution_count": null,
      "outputs": []
    }
  ]
}