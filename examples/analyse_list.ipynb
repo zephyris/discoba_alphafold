{
  "nbformat": 4,
  "nbformat_minor": 0,
  "metadata": {
    "colab": {
      "private_outputs": true,
      "provenance": [],
      "authorship_tag": "ABX9TyPtfWNi5URufeoLbREwePgU",
      "include_colab_link": true
    },
    "kernelspec": {
      "name": "python3",
      "display_name": "Python 3"
    },
    "language_info": {
      "name": "python"
    },
    "gpuClass": "standard"
  },
  "cells": [
    {
      "cell_type": "markdown",
      "metadata": {
        "id": "view-in-github",
        "colab_type": "text"
      },
      "source": [
        "<a href=\"https://colab.research.google.com/github/zephyris/discoba_alphafold/blob/main/examples/analyse_list.ipynb\" target=\"_parent\"><img src=\"https://colab.research.google.com/assets/colab-badge.svg\" alt=\"Open In Colab\"/></a>"
      ]
    },
    {
      "cell_type": "code",
      "execution_count": null,
      "metadata": {
        "id": "FndhqOBBZykZ"
      },
      "outputs": [],
      "source": [
        "#@title Install tryptag module\n",
        "\n",
        "#@markdown Install the `tryptag` module using `pip`.\n",
        "\n",
        "!pip install git+https://github.com/zephyris/tryptag"
      ]
    },
    {
      "cell_type": "code",
      "source": [
        "#@title Setup tryptag\n",
        "\n",
        "#@markdown The `tryptag` module handles all data retrieval.\n",
        "#@markdown `tryptools` provides tools for image analysis of trypanosome cells.\n",
        "\n",
        "# import and set up TryTag instance\n",
        "from tryptag import TrypTag\n",
        "from tryptag import tryptools\n",
        "tryptag = TrypTag()\n",
        "\n",
        "# define a function to print results nicely\n",
        "def prettyprint_hits(hits, max_shown=15):\n",
        "  print(len(hits), \"hits\")\n",
        "  for i in range(min(len(hits), max_shown)):\n",
        "    if \"result\" in hits[i]:\n",
        "      print(hits[i][\"gene_id\"], hits[i][\"terminus\"], \":\", hits[i][\"result\"])\n",
        "    else:\n",
        "      print(hits[i][\"gene_id\"], hits[i][\"terminus\"], \":\", loc_to_str(tryptag.gene_list[hits[i][\"gene_id\"]][hits[i][\"terminus\"]][\"loc\"]))\n",
        "  if len(hits) > max_shown:\n",
        "    print(\" ... and\", len(hits) - max_shown, \"more\")\n",
        "\n",
        "# define a function to print localisation objects as nice strings\n",
        "def loc_to_str(locs):\n",
        "  loc_strs = []\n",
        "  for loc in locs:\n",
        "    str = loc[\"term\"]\n",
        "    if \"modifiers\" in loc:\n",
        "      str = str + \"[\"+\", \".join(loc[\"modifiers\"])+\"]\"\n",
        "    loc_strs.append(str)\n",
        "  return \", \".join(loc_strs)"
      ],
      "metadata": {
        "id": "aEci6ZNT1nF6"
      },
      "execution_count": null,
      "outputs": []
    },
    {
      "cell_type": "code",
      "source": [
        "#@title Set up a worklist\n",
        "\n",
        "#@markdown A worklist is a list of dicts indicating the `gene_id` and `terminus` to analyse, in the form: `{\"gene_id\": \"Tb927.7.1920\", \"terminus\": \"n\"}`.\n",
        "\n",
        "#@markdown `tryptag` provides some useful built-in worklists. `worklist_parental`, four replicates of the untagged parental cell line, and `worklist_all`, all `gene_id`/`terminus` combinations with image data.\n",
        "\n",
        "#@markdown The `localisation_search` function also returns list in the correct format for use as a worklist.\n",
        "\n",
        "worklist_type = \"parental\" #@param [\"localisation_search\", \"all\", \"parental\"]\n",
        "\n",
        "#@markdown If you're trying out this notebook, you probably want to use the `parental` worklist to avoid downloading too much data.\n",
        "\n",
        "if worklist_type == \"parental\":\n",
        "  print(\"Using parental worklist\")\n",
        "  worklist = tryptag.worklist_parental\n",
        "elif worklist_type == \"all\":\n",
        "  print(\"Using all worklist\")\n",
        "  worklist = tryptag.worklist_all\n",
        "elif worklist_type == \"localisation_search\":\n",
        "  print(\"Using example localisation search worklist\")\n",
        "  print(\"Searching for `lipid droplets`\")\n",
        "  worklist = tryptag.localisation_search(\"lipid droplet\")\n",
        "\n",
        "prettyprint_hits(worklist)"
      ],
      "metadata": {
        "id": "O6-kr8NA4iTK"
      },
      "execution_count": null,
      "outputs": []
    },
    {
      "cell_type": "code",
      "source": [
        "#@title A simple multithreaded analysis\n",
        "\n",
        "#@markdown A large scale analysis can use the `tryptag` built-in parallel processes or thread handling in the `analyse_list` function.\n",
        "#@markdown It requires a user-defined analysis function that takes `tryptag`, `gene_id` and `terminus` as arguments.\n",
        "\n",
        "#@markdown You can do anything you want to analyse the `gene_id` and `terminus` in this function, though you probably want to loop through fields or cells and analyse them using `tryptools` or custom image analysis.\n",
        "#@markdown The analysis function should return the result data you want linked with that `gene_id` and `terminus`\n",
        "\n",
        "# user-defined analysis function, taking the arguments tryptag, gene_id and terminus\n",
        "# tryptag is an instance of TrypTag, passed from the parallel processing code\n",
        "# gene_id and terminus are passed from your worklist, the parallel processing code has already fetched the data for that gene_id/terminus\n",
        "def analyse(tryptag, gene_id, terminus):\n",
        "  result = []\n",
        "  for field in range(len(tryptag.gene_list[gene_id][terminus][\"cells\"])):\n",
        "    for cell in range(len(tryptag.gene_list[gene_id][terminus][\"cells\"][field])):\n",
        "      [pha, mng, dna, pth, dth] = tryptag.open_cell(gene_id, terminus, field, cell)\n",
        "      result.append(tryptools.cell_morphology_analysis(pth, dth, dna))\n",
        "  return result\n",
        "\n",
        "multiprocess_mode = \"process\" #@param [\"None\", \"process\", \"thread\"]\n",
        "if multiprocess_mode == \"None\":\n",
        "  multiprocess_mode = None\n",
        "\n",
        "workers = 2 #@param integer\n",
        "\n",
        "# do the analysis\n",
        "results = tryptag.analyse_list(tryptag.worklist_parental, analyse, multiprocess_mode=None, workers=workers)\n",
        "\n",
        "#@markdown The result is a list of dicts where every dict now has a `result` entry in addition to `gene_id` and `terminus`, in the form: `{\"gene_id\": \"Tb927.7.1920\", \"terminus\": \"n\", \"result\": \"analysis_return_value\"}`.\n",
        "#@markdown These may be in a different order to the original worklist. \n",
        "\n",
        "# print the results\n",
        "prettyprint_hits(results)\n"
      ],
      "metadata": {
        "id": "fJSlnEoGZ-qN"
      },
      "execution_count": null,
      "outputs": []
    },
    {
      "cell_type": "code",
      "source": [
        "#@title Controlling multiprocessing parameters\n",
        "\n",
        "#@markdown You can control how the parallel processing is handled using `multiprocess_mode`.\n",
        "\n",
        "#@markdown `process` uses multiple python processes, `thread` uses multiple python threads.\n",
        "#@markdown `None` uses no parallel processing.\n",
        "#@markdown Default behaviour (if you do not set `multiprocess_mode`) is to use `process`, which is probably the best solution unless you really know what you're doing.\n",
        "\n",
        "multiprocess_mode = \"process\" #@param [\"None\", \"process\", \"thread\"]\n",
        "if multiprocess_mode == \"None\":\n",
        "  multiprocess_mode = None\n",
        "\n",
        "#@markdown You can control the number of threads/processes using `workers`. Default (if you do not set `workers`) is to use one worker per CPU core.\n",
        "\n",
        "workers = 2 #@param integer\n",
        "\n",
        "results = tryptag.analyse_list(tryptag.worklist_parental, analyse, multiprocess_mode=None, workers=workers)\n",
        "\n",
        "# print the results\n",
        "prettyprint_hits(results)"
      ],
      "metadata": {
        "id": "6KRDNvV97kUq"
      },
      "execution_count": null,
      "outputs": []
    }
  ]
}