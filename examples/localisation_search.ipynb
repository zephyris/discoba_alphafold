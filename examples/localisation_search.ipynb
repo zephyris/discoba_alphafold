{
  "nbformat": 4,
  "nbformat_minor": 0,
  "metadata": {
    "colab": {
      "private_outputs": true,
      "provenance": [],
      "authorship_tag": "ABX9TyNvTi+WCLv7Imva/GXwB64p",
      "include_colab_link": true
    },
    "kernelspec": {
      "name": "python3",
      "display_name": "Python 3"
    },
    "language_info": {
      "name": "python"
    },
    "gpuClass": "standard"
  },
  "cells": [
    {
      "cell_type": "markdown",
      "metadata": {
        "id": "view-in-github",
        "colab_type": "text"
      },
      "source": [
        "<a href=\"https://colab.research.google.com/github/zephyris/discoba_alphafold/blob/main/examples/localisation_search.ipynb\" target=\"_parent\"><img src=\"https://colab.research.google.com/assets/colab-badge.svg\" alt=\"Open In Colab\"/></a>"
      ]
    },
    {
      "cell_type": "code",
      "execution_count": null,
      "metadata": {
        "id": "udpzaig0lze3"
      },
      "outputs": [],
      "source": [
        "#@title Install tryptag module\n",
        "\n",
        "#@markdown Install the `tryptag` module using `pip`.\n",
        "\n",
        "!pip install git+https://github.com/zephyris/tryptag"
      ]
    },
    {
      "cell_type": "code",
      "source": [
        "#@title Setup tryptag\n",
        "\n",
        "#@markdown The `tryptag` module handles all data retrieval and provides functions for searching based on localisation.\n",
        "\n",
        "# import tryptag module and set up TryTag instance\n",
        "from tryptag import TrypTag\n",
        "# non-verbose output, only small resources are requested so should be pretty responsive\n",
        "tryptag = TrypTag(verbose=False)\n",
        "\n",
        "# define a function to print results nicely\n",
        "def prettyprint_hits(hits, max_shown=15):\n",
        "  print(len(hits), \"hits\")\n",
        "  for i in range(min(len(hits), max_shown)):\n",
        "    print(hits[i][\"gene_id\"], hits[i][\"terminus\"], \":\", loc_to_str(tryptag.gene_list[hits[i][\"gene_id\"]][hits[i][\"terminus\"]][\"loc\"]))\n",
        "  if len(hits) > max_shown:\n",
        "    print(\" ... and\", len(hits) - max_shown, \"more\")\n",
        "\n",
        "# define a function to print localisation objects as nice strings\n",
        "def loc_to_str(locs):\n",
        "  loc_strs = []\n",
        "  for loc in locs:\n",
        "    str = loc[\"term\"]\n",
        "    if \"modifiers\" in loc:\n",
        "      str = str + \"[\"+\", \".join(loc[\"modifiers\"])+\"]\"\n",
        "    loc_strs.append(str)\n",
        "  return \", \".join(loc_strs)"
      ],
      "metadata": {
        "id": "aHFBpe_qnCxD"
      },
      "execution_count": null,
      "outputs": []
    },
    {
      "cell_type": "code",
      "source": [
        "#@title Simple search\n",
        "\n",
        "#@markdown Search for localisations matching the query localisation using the `localisation_search` function.\n",
        "\n",
        "# a simple search, proteins localising to the nucleus\n",
        "query = \"nucleus\" #@param {type:\"string\"}\n",
        "print(\"Query:\", query)\n",
        "print(\"\")\n",
        "hits = tryptag.localisation_search(query)\n",
        "\n",
        "# result is a list of hits, in the form {\"gene_id\": gene_id, \"terminus\": terminus}\n",
        "prettyprint_hits(hits)"
      ],
      "metadata": {
        "id": "79iKcADInK8q"
      },
      "execution_count": null,
      "outputs": []
    },
    {
      "cell_type": "code",
      "source": [
        "#@title Advanced search\n",
        "\n",
        "#@markdown By default, a search matches all localisations which are a child of the query (eg. `nucleoplasm` is a child of `nucleus`) and excludes localisations with a modifier term of `weak` or `<10%`. This can be customised.\n",
        "\n",
        "\n",
        "# term from the localisation ontology\n",
        "query = \"nucleoplasm\" #@param {type:\"string\"}\n",
        "# true or false, whether to recurse matches to child structures\n",
        "match_subterms = False #@param {type:\"boolean\"}\n",
        "\n",
        "#@markdown Comma delimited lists of modifiers\n",
        "# list of modifiers which preclude a hit\n",
        "exclude_modifiers = \"weak, <10%, 25%\" #@param {type:\"string\"}\n",
        "# list of modifiers which must be present for a hit\n",
        "required_modifiers = \"strong\" #@param {type:\"string\"}\n",
        "\n",
        "#@markdown If a localisation matching the query has _any_ modifier in the `exclude_modifiers` list then it will not be accepted as a hit.\n",
        "#@markdown A localisation matching the query must have _all_ of the modifiers in the `required_modifiers` list to be accepted as a hit.\n",
        "\n",
        "print(\"Query:\", query)\n",
        "print(\"Match subterms:\", match_subterms)\n",
        "\n",
        "def split_to_list(str):\n",
        "  # no entries, return None\n",
        "  if str == \"\":\n",
        "    return None\n",
        "  # return split str\n",
        "  if \",\" in str:\n",
        "    return [x.strip() for x in str.split(\",\")]\n",
        "  # return one entry list containing str\n",
        "  return [str.strip()]\n",
        "\n",
        "# parse excluded modifiers into a list\n",
        "exclude_modifiers = split_to_list(exclude_modifiers)\n",
        "print(\"Exclude modifiers:\", exclude_modifiers)\n",
        "required_modifiers = split_to_list(required_modifiers)\n",
        "print(\"Include modifiers:\", required_modifiers)\n",
        "print(\"\")\n",
        "\n",
        "hits = tryptag.localisation_search(query, match_subterms=match_subterms, exclude_modifiers=exclude_modifiers, required_modifiers=required_modifiers)\n",
        "prettyprint_hits(hits)"
      ],
      "metadata": {
        "id": "OsbBurKSr0iT"
      },
      "execution_count": null,
      "outputs": []
    },
    {
      "cell_type": "code",
      "source": [
        "#@title Combining search results\n",
        "\n",
        "#@markdown Complex search strategies can be achieved by combining results from multiple searches.\n",
        "\n",
        "query_1 = \"nucleoplasm\" #@param {type:\"string\"}\n",
        "query_2 = \"cytoplasm\" #@param {type:\"string\"}\n",
        "combine_strategy = \"intersection\" #@param [\"union\", \"intersection\", \"1 minus 2\"]\n",
        "\n",
        "# do the searches\n",
        "print(\"Query 1\")\n",
        "hits_1 = tryptag.localisation_search(query_1)\n",
        "prettyprint_hits(hits_1, max_shown=5)\n",
        "print(\"\")\n",
        "\n",
        "print(\"Query 2\")\n",
        "hits_2 = tryptag.localisation_search(query_2)\n",
        "prettyprint_hits(hits_2, max_shown=5)\n",
        "print(\"\")\n",
        "\n",
        "# define union, intersection and 1 minus 2 functions\n",
        "def union(hits_1, hits_2):\n",
        "  hits = hits_1.copy()\n",
        "  for hit in hits_2:\n",
        "    if hit not in hits:\n",
        "      hits.append(hit)\n",
        "  return hits\n",
        "\n",
        "def intersection(hits_1, hits_2):\n",
        "  hits = []\n",
        "  for hit in hits_1:\n",
        "    if hit in hits_2:\n",
        "      hits.append(hit)\n",
        "  return hits\n",
        "\n",
        "def minus(hits_1, hits_2):\n",
        "  hits = []\n",
        "  for hit in hits_1:\n",
        "    if hit not in hits_2:\n",
        "      hits.append(hit)\n",
        "  return hits\n",
        "\n",
        "# print the combined hits\n",
        "if combine_strategy == \"union\":\n",
        "  print(\"Union\")\n",
        "  prettyprint_hits(union(hits_1, hits_2), max_shown=5)\n",
        "\n",
        "if combine_strategy == \"intersection\":\n",
        "  print(\"Intersection\")\n",
        "  prettyprint_hits(intersection(hits_1, hits_2), max_shown=5)\n",
        "\n",
        "if combine_strategy == \"1minus2\":\n",
        "  print(\"Query 1 minus query 2\")\n",
        "  prettyprint_hits(minus(hits_1, hits_2), max_shown=5)"
      ],
      "metadata": {
        "id": "vc0jOC9Fwhrb"
      },
      "execution_count": null,
      "outputs": []
    },
    {
      "cell_type": "code",
      "source": [
        "#@title Ontology\n",
        "\n",
        "#@markdown To construct an inteligent query ensure that you check the ontology.\n",
        "\n",
        "#@markdown In particular, consider the parent terms when carrying out a search where `match_subterms` is true, including the default behaviour.\n",
        "#@markdown Most hierachies are obvious however some may not be. In particular, small cytoplasmic organelles like `glycosome` and `acidocalcisome` are children of `cytoplasm`.\n",
        "\n",
        "def prettyprint_ontology(ontology):\n",
        "  for entry in ontology:\n",
        "    print(entry)\n",
        "    print(\"-\" * len(entry))\n",
        "    if \"synonyms\" in ontology[entry]: print(\"Synonyms:\", \", \".join(ontology[entry][\"synonyms\"]))\n",
        "    if \"comment\" in ontology[entry]: print(\"Description:\", ontology[entry][\"comment\"])\n",
        "    if \"ident\" in ontology[entry]: print(\"Identification:\", ontology[entry][\"ident\"])\n",
        "    if \"go\" in ontology[entry]: print(\"GO term:\", \"http://amigo.geneontology.org/amigo/term/\"+ontology[entry][\"go\"])\n",
        "    print(\"Parent hierachy:\", \" -> \".join(ontology[entry][\"parent\"]))\n",
        "    if \"children\" in ontology[entry]: print(\"Children:\", \", \".join(ontology[entry][\"children\"]))\n",
        "    if \"examples\" in ontology[entry]:\n",
        "      urls = []\n",
        "      for example in ontology[entry][\"examples\"]:\n",
        "        urls.append(\"http://tryptag.org/?id=\"+example[\"id\"])\n",
        "      print(\"Examples:\", \", \".join(urls))\n",
        "    print(\"\")\n",
        "\n",
        "tryptag.fetch_ontologies()\n",
        "prettyprint_ontology(tryptag.localisation_ontology)"
      ],
      "metadata": {
        "id": "YHkvHQCC4LPS"
      },
      "execution_count": null,
      "outputs": []
    }
  ]
}